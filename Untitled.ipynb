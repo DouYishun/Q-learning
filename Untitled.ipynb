{
 "cells": [
  {
   "cell_type": "code",
   "execution_count": 2,
   "metadata": {},
   "outputs": [
    {
     "name": "stdout",
     "output_type": "stream",
     "text": [
      "Discrete(3)\n",
      "Box(6,)\n",
      "[  1.           1.           1.           1.          12.56637061\n",
      "  28.27433388]\n",
      "[ -1.          -1.          -1.          -1.         -12.56637061\n",
      " -28.27433388]\n"
     ]
    }
   ],
   "source": [
    "import gym\n",
    "env = gym.make('Acrobot-v1')\n",
    "print(env.action_space)\n",
    "#> Discrete(2)\n",
    "print(env.observation_space)\n",
    "#> Box(4,)\n",
    "print(env.observation_space.high)\n",
    "#> array([ 2.4       ,         inf,  0.20943951,         inf])\n",
    "print(env.observation_space.low)\n",
    "#> array([-2.4       ,        -inf, -0.20943951,        -inf])"
   ]
  },
  {
   "cell_type": "code",
   "execution_count": null,
   "metadata": {},
   "outputs": [],
   "source": []
  }
 ],
 "metadata": {
  "kernelspec": {
   "display_name": "Python 3",
   "language": "python",
   "name": "python3"
  },
  "language_info": {
   "codemirror_mode": {
    "name": "ipython",
    "version": 3
   },
   "file_extension": ".py",
   "mimetype": "text/x-python",
   "name": "python",
   "nbconvert_exporter": "python",
   "pygments_lexer": "ipython3",
   "version": "3.5.2"
  }
 },
 "nbformat": 4,
 "nbformat_minor": 2
}
